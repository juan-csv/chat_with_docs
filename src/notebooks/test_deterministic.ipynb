{
 "cells": [
  {
   "cell_type": "code",
   "execution_count": 4,
   "metadata": {},
   "outputs": [
    {
     "data": {
      "text/markdown": [
       "### Move to src dir to run\n"
      ],
      "text/plain": [
       "<IPython.core.display.Markdown object>"
      ]
     },
     "metadata": {},
     "output_type": "display_data"
    }
   ],
   "source": [
    "%%markdown\n",
    "### Move to src dir to run"
   ]
  },
  {
   "cell_type": "code",
   "execution_count": 2,
   "metadata": {},
   "outputs": [
    {
     "ename": "ModuleNotFoundError",
     "evalue": "No module named 'base_llm'",
     "output_type": "error",
     "traceback": [
      "\u001b[0;31m---------------------------------------------------------------------------\u001b[0m",
      "\u001b[0;31mModuleNotFoundError\u001b[0m                       Traceback (most recent call last)",
      "\u001b[1;32m/home/pearls/Documents/hubsync/chat_with_docs/src/notebooks/test_deterministic.ipynb Cell 1\u001b[0m line \u001b[0;36m1\n\u001b[0;32m----> <a href='vscode-notebook-cell:/home/pearls/Documents/hubsync/chat_with_docs/src/notebooks/test_deterministic.ipynb#W0sZmlsZQ%3D%3D?line=0'>1</a>\u001b[0m \u001b[39mfrom\u001b[39;00m \u001b[39mbase_llm\u001b[39;00m \u001b[39mimport\u001b[39;00m BaseLLM\n\u001b[1;32m      <a href='vscode-notebook-cell:/home/pearls/Documents/hubsync/chat_with_docs/src/notebooks/test_deterministic.ipynb#W0sZmlsZQ%3D%3D?line=1'>2</a>\u001b[0m \u001b[39mfrom\u001b[39;00m \u001b[39mlangchain\u001b[39;00m\u001b[39m.\u001b[39;00m\u001b[39mchat_models\u001b[39;00m \u001b[39mimport\u001b[39;00m ChatOpenAI\n",
      "\u001b[0;31mModuleNotFoundError\u001b[0m: No module named 'base_llm'"
     ]
    }
   ],
   "source": [
    "from base_llm import BaseLLM\n",
    "from langchain.chat_models import ChatOpenAI"
   ]
  },
  {
   "cell_type": "code",
   "execution_count": 14,
   "metadata": {},
   "outputs": [],
   "source": [
    "llm = ChatOpenAI(\n",
    "    model=\"gpt-3.5-turbo-16k\",\n",
    "    model_kwargs={\n",
    "        'top_p' : 0.01\n",
    "    }\n",
    ")"
   ]
  },
  {
   "cell_type": "code",
   "execution_count": 16,
   "metadata": {},
   "outputs": [
    {
     "data": {
      "text/plain": [
       "\"Once upon a time in a small village, there lived a young girl named Lily. She had always been fascinated by magic and spent her days reading books about spells and enchantments. One day, while exploring the forest, she stumbled upon an old, dusty book hidden beneath a tree.\\n\\nCuriosity got the better of her, and she opened the book. To her amazement, it contained a powerful spell that could grant any wish. Eager to test its authenticity, Lily recited the incantation, and a shimmering light enveloped her.\\n\\nSuddenly, she found herself in a magnificent castle, surrounded by mystical creatures. The castle belonged to the great sorcerer, Merlin, who had been searching for someone pure of heart to inherit his powers.\\n\\nMerlin explained that Lily's pure heart had unlocked the magic within her. He became her mentor, teaching her the ways of magic and guiding her on a journey to protect the realm from darkness.\\n\\nWith each passing day, Lily's powers grew stronger. She could summon fire, heal wounds, and even communicate with animals. She became a beacon of hope for the villagers, using her magic to bring joy and prosperity to their lives.\\n\\nYears later, when darkness threatened to consume the land, Lily faced her greatest challenge. With her newfound abilities, she defeated the evil sorcerer and restored peace to the realm.\\n\\nLily's story spread far and wide, inspiring others to believe in the power of magic. She became a legendary figure, forever remembered as the girl who brought light to a world filled with darkness.\""
      ]
     },
     "execution_count": 16,
     "metadata": {},
     "output_type": "execute_result"
    }
   ],
   "source": [
    "llm.predict('Tell me a short story about magic. Limit the story at 200 words.')"
   ]
  },
  {
   "cell_type": "code",
   "execution_count": 17,
   "metadata": {},
   "outputs": [
    {
     "data": {
      "text/plain": [
       "\"Once upon a time in a small village, there lived a young girl named Lily. She had always been fascinated by magic and spent her days reading books about spells and enchantments. One day, while exploring the forest, she stumbled upon an old, dusty book hidden beneath a tree.\\n\\nCuriosity got the better of her, and she opened the book. To her amazement, it contained a powerful spell that could grant any wish. Eager to test its authenticity, Lily recited the incantation, and a shimmering light enveloped her.\\n\\nSuddenly, she found herself in a magnificent castle, surrounded by mystical creatures. The castle belonged to the great sorcerer, Merlin, who had been searching for someone pure of heart to inherit his powers.\\n\\nMerlin explained that Lily's pure heart had unlocked the magic within her. He became her mentor, teaching her the ways of magic and guiding her on a journey to protect the realm from darkness.\\n\\nWith each passing day, Lily's powers grew stronger. She could summon fire, heal wounds, and even communicate with animals. She became a beacon of hope for the villagers, using her magic to bring joy and prosperity to their lives.\\n\\nYears later, when darkness threatened to consume the land, Lily faced her greatest challenge. With her newfound abilities, she defeated the evil sorcerer and restored peace to the realm.\\n\\nLily's story spread far and wide, inspiring others to believe in the power of magic. She became a legendary figure, forever remembered as the girl who brought light to a world filled with darkness.\""
      ]
     },
     "execution_count": 17,
     "metadata": {},
     "output_type": "execute_result"
    }
   ],
   "source": [
    "llm.predict('Tell me a short story about magic. Limit the story at 200 words.')"
   ]
  },
  {
   "cell_type": "code",
   "execution_count": 18,
   "metadata": {},
   "outputs": [
    {
     "data": {
      "text/plain": [
       "\"Once upon a time in a small village, there lived a young girl named Lily. She had always been fascinated by magic and spent her days reading books about spells and enchantments. One day, while exploring the forest, she stumbled upon an old, dusty book hidden beneath a tree.\\n\\nCuriosity got the better of her, and she opened the book. To her amazement, it contained a powerful spell that could grant any wish. Eager to test its authenticity, Lily recited the incantation, and a shimmering light enveloped her.\\n\\nSuddenly, she found herself in a magnificent castle, surrounded by mystical creatures. The castle belonged to the great sorcerer, Merlin, who had been searching for someone pure of heart to inherit his powers.\\n\\nMerlin explained that Lily's pure heart had unlocked the magic within her. He became her mentor, teaching her the ways of magic and guiding her on a journey to protect the realm from darkness.\\n\\nWith each passing day, Lily's powers grew stronger. She could summon fire, heal wounds, and even communicate with animals. She became a beacon of hope for the villagers, using her magic to bring joy and prosperity to their lives.\\n\\nYears later, when darkness threatened to consume the land, Lily faced her greatest challenge. With her newfound abilities, she defeated the evil sorcerer and restored peace to the realm.\\n\\nLily's story spread far and wide, inspiring others to believe in the power of magic. She became a legendary figure, forever remembered as the girl who brought light to a world filled with darkness.\""
      ]
     },
     "execution_count": 18,
     "metadata": {},
     "output_type": "execute_result"
    }
   ],
   "source": [
    "llm.predict('Tell me a short story about magic. Limit the story at 200 words.')"
   ]
  },
  {
   "cell_type": "code",
   "execution_count": 19,
   "metadata": {},
   "outputs": [
    {
     "data": {
      "text/plain": [
       "\"Once upon a time in a small village, there lived a young girl named Lily. She had always been fascinated by magic and longed to become a powerful sorceress. One day, while exploring the forest, she stumbled upon an ancient book hidden beneath a tree.\\n\\nCuriosity got the better of her, and she opened the book. To her amazement, it contained spells and enchantments. Lily began studying the book diligently, practicing the incantations and gestures.\\n\\nOne evening, as the sun set, Lily decided to test her newfound abilities. She whispered a spell and waved her hand, and suddenly, the stars in the sky began to dance. The villagers, astonished, gathered around to witness the magical spectacle.\\n\\nWord of Lily's extraordinary powers spread far and wide. People from distant lands came to seek her help, hoping she could solve their problems with her magic. Lily used her abilities to heal the sick, bring joy to the sorrowful, and protect the weak.\\n\\nBut as time passed, Lily realized that true magic lay not in her spells but in the kindness and compassion she showed others. She used her powers to teach the villagers how to help themselves, empowering them to create their own magic.\\n\\nAnd so, Lily's story became a legend, reminding everyone that the greatest magic of all is the magic of love and selflessness.\""
      ]
     },
     "execution_count": 19,
     "metadata": {},
     "output_type": "execute_result"
    }
   ],
   "source": [
    "llm.predict('Tell me a short story about magic. Limit the story at 200 words.')"
   ]
  },
  {
   "cell_type": "code",
   "execution_count": 20,
   "metadata": {},
   "outputs": [
    {
     "data": {
      "text/plain": [
       "\"Once upon a time in a small village, there lived a young girl named Lily. She had always been fascinated by magic and spent her days reading books about spells and enchantments. One day, while exploring the forest near her home, she stumbled upon an old, dusty book hidden beneath a tree.\\n\\nCuriosity got the better of Lily, and she opened the book. To her amazement, it contained a powerful spell that could grant any wish. Eager to test its authenticity, she recited the incantation aloud. Suddenly, a shimmering light enveloped her, and she found herself floating in mid-air.\\n\\nLily's heart raced with excitement as she realized the spell had worked. She spent the next few days using her newfound powers to help others. She healed the sick, brought joy to the lonely, and even made the village's crops flourish.\\n\\nWord of Lily's magical abilities spread far and wide, reaching the ears of a wicked sorcerer. Consumed by jealousy, he set out to steal her powers. One night, he ambushed Lily, casting a spell to drain her magic.\\n\\nBut as the sorcerer's spell took effect, something unexpected happened. Lily's magic grew stronger, and she transformed into a radiant being of pure light. With a wave of her hand, she banished the sorcerer and his darkness from the village forever.\\n\\nFrom that day forward, Lily became the village's guardian, using her magic to protect and bring prosperity to all. And so, the small village thrived under the watchful eye of their magical protector, forever grateful for the gift of Lily's enchanting powers.\""
      ]
     },
     "execution_count": 20,
     "metadata": {},
     "output_type": "execute_result"
    }
   ],
   "source": [
    "llm.predict('Tell me a short story about magic. Limit the story at 200 words.')"
   ]
  },
  {
   "cell_type": "code",
   "execution_count": 21,
   "metadata": {},
   "outputs": [
    {
     "data": {
      "text/plain": [
       "\"Once upon a time in a small village, there lived a young girl named Lily. She had always been fascinated by magic and spent her days reading books about spells and enchantments. One day, while exploring the forest, she stumbled upon an old, dusty book hidden beneath a tree.\\n\\nCuriosity got the better of her, and she opened the book. To her amazement, it contained a powerful spell that could grant any wish. Eager to test its authenticity, Lily recited the incantation, and a shimmering light enveloped her.\\n\\nSuddenly, she found herself in a magnificent castle, surrounded by mystical creatures. The castle belonged to the great sorcerer, Merlin, who had been searching for someone pure of heart to inherit his powers.\\n\\nMerlin explained that Lily's pure heart had unlocked the magic within her. He became her mentor, teaching her the ways of magic and guiding her on a journey to protect the realm from darkness.\\n\\nWith each passing day, Lily's powers grew stronger. She could summon fire, heal wounds, and even communicate with animals. She became a beacon of hope for the villagers, using her magic to bring joy and prosperity to their lives.\\n\\nYears later, when darkness threatened to consume the land, Lily faced her greatest challenge. With her newfound abilities, she defeated the evil sorcerer and restored peace to the realm.\\n\\nLily's story spread far and wide, inspiring others to believe in the power of magic. She became a legendary figure, forever remembered as the girl who brought light to a world filled with darkness.\""
      ]
     },
     "execution_count": 21,
     "metadata": {},
     "output_type": "execute_result"
    }
   ],
   "source": [
    "llm.predict('Tell me a short story about magic. Limit the story at 200 words.')"
   ]
  },
  {
   "cell_type": "code",
   "execution_count": 23,
   "metadata": {},
   "outputs": [],
   "source": [
    "llm = ChatOpenAI(\n",
    "    model=\"gpt-3.5-turbo-16k\",\n",
    "    temperature=0.0,\n",
    "    model_kwargs={\n",
    "        'top_p' : 0.01\n",
    "    }\n",
    ")"
   ]
  },
  {
   "cell_type": "code",
   "execution_count": 24,
   "metadata": {},
   "outputs": [
    {
     "data": {
      "text/plain": [
       "\"Once upon a time in a small village, there lived a young girl named Lily. She had always been fascinated by magic and spent her days reading books about spells and enchantments. One day, while exploring the forest, she stumbled upon an old, dusty book hidden beneath a tree.\\n\\nCuriosity got the better of her, and she opened the book. To her amazement, it contained a powerful spell that could grant any wish. Eager to test its authenticity, Lily recited the incantation, and a shimmering light enveloped her.\\n\\nSuddenly, she found herself in a magnificent castle, surrounded by mystical creatures. The castle belonged to the great sorcerer, Merlin, who had been searching for someone pure of heart to inherit his powers.\\n\\nMerlin explained that Lily's pure heart had unlocked the magic within her. He became her mentor, teaching her the ways of magic and guiding her on a journey to protect the realm from darkness.\\n\\nWith each passing day, Lily's powers grew stronger. She could summon fire, heal wounds, and even communicate with animals. She became a beacon of hope for the villagers, using her magic to bring joy and prosperity to their lives.\\n\\nYears later, when darkness threatened to consume the land, Lily faced her greatest challenge. With her newfound abilities, she defeated the evil sorcerer and restored peace to the realm.\\n\\nLily's story spread far and wide, inspiring others to believe in the power of magic. She became a legendary figure, forever remembered as the girl who brought light to a world filled with darkness.\""
      ]
     },
     "execution_count": 24,
     "metadata": {},
     "output_type": "execute_result"
    }
   ],
   "source": [
    "llm.predict('Tell me a short story about magic. Limit the story at 200 words.')"
   ]
  },
  {
   "cell_type": "code",
   "execution_count": 25,
   "metadata": {},
   "outputs": [
    {
     "data": {
      "text/plain": [
       "\"Once upon a time in a small village, there lived a young girl named Lily. She had always been fascinated by magic and spent her days reading books about spells and enchantments. One day, while exploring the forest, she stumbled upon an old, dusty book hidden beneath a tree.\\n\\nCuriosity got the better of her, and she opened the book. To her amazement, it contained a powerful spell that could grant any wish. Eager to test its authenticity, Lily recited the incantation, and a shimmering light enveloped her.\\n\\nSuddenly, she found herself in a magnificent castle, surrounded by mystical creatures. The castle belonged to the great sorcerer, Merlin, who had been searching for someone pure of heart to inherit his powers.\\n\\nMerlin explained that Lily's pure heart had unlocked the magic within her. He became her mentor, teaching her the ways of magic and guiding her on a journey to protect the realm from darkness.\\n\\nWith each passing day, Lily's powers grew stronger. She could summon fire, heal wounds, and even communicate with animals. She became a beacon of hope for the villagers, using her magic to bring joy and prosperity to their lives.\\n\\nYears later, when darkness threatened to consume the land, Lily faced her greatest challenge. With her newfound abilities, she defeated the evil sorcerer and restored peace to the realm.\\n\\nLily's story spread far and wide, inspiring others to believe in the power of magic. She became a legendary figure, forever remembered as the girl who brought light to a world filled with darkness.\""
      ]
     },
     "execution_count": 25,
     "metadata": {},
     "output_type": "execute_result"
    }
   ],
   "source": [
    "llm.predict('Tell me a short story about magic. Limit the story at 200 words.')"
   ]
  },
  {
   "cell_type": "code",
   "execution_count": 26,
   "metadata": {},
   "outputs": [
    {
     "data": {
      "text/plain": [
       "\"Once upon a time in a small village, there lived a young girl named Lily. She had always been fascinated by magic and spent her days reading books about spells and enchantments. One day, while exploring the forest, she stumbled upon an old, dusty book hidden beneath a tree.\\n\\nCuriosity got the better of her, and she opened the book. To her amazement, it contained a powerful spell that could grant any wish. Eager to test its authenticity, Lily recited the incantation, and a shimmering light enveloped her.\\n\\nSuddenly, she found herself in a magnificent castle, surrounded by mystical creatures. The castle belonged to the great sorcerer, Merlin, who had been searching for someone pure of heart to inherit his powers.\\n\\nMerlin explained that Lily's pure heart had unlocked the magic within her. He became her mentor, teaching her the ways of magic and guiding her on a journey to protect the realm from darkness.\\n\\nWith each passing day, Lily's powers grew stronger. She could summon fire, heal wounds, and even communicate with animals. She became a beacon of hope for the villagers, using her magic to bring joy and prosperity to their lives.\\n\\nYears later, when darkness threatened to consume the land, Lily faced her greatest challenge. With her newfound abilities, she defeated the evil sorcerer and restored peace to the realm.\\n\\nLily's story spread far and wide, inspiring others to believe in the power of magic. She became a legendary figure, forever remembered as the girl who brought light to a world filled with darkness.\""
      ]
     },
     "execution_count": 26,
     "metadata": {},
     "output_type": "execute_result"
    }
   ],
   "source": [
    "llm.predict('Tell me a short story about magic. Limit the story at 200 words.')"
   ]
  },
  {
   "cell_type": "code",
   "execution_count": 27,
   "metadata": {},
   "outputs": [
    {
     "data": {
      "text/plain": [
       "\"Once upon a time in a small village, there lived a young girl named Lily. She had always been fascinated by magic and spent her days reading books about spells and enchantments. One day, while exploring the forest, she stumbled upon an old, dusty book hidden beneath a tree.\\n\\nCuriosity got the better of her, and she opened the book. To her amazement, it contained a powerful spell that could grant any wish. Eager to test its authenticity, Lily recited the incantation, and a shimmering light enveloped her.\\n\\nSuddenly, she found herself in a magnificent castle, surrounded by mystical creatures. The castle belonged to the great sorcerer, Merlin, who had been searching for someone pure of heart to inherit his powers.\\n\\nMerlin explained that Lily's pure heart had unlocked the magic within her. He became her mentor, teaching her the ways of magic and guiding her on a journey to protect the realm from darkness.\\n\\nWith each passing day, Lily's powers grew stronger. She could summon fire, heal wounds, and even communicate with animals. She became a beacon of hope for the villagers, using her magic to bring joy and prosperity to their lives.\\n\\nYears later, when darkness threatened to consume the land, Lily faced her greatest challenge. With her newfound abilities, she defeated the evil sorcerer and restored peace to the realm.\\n\\nLily's story spread far and wide, inspiring others to believe in the power of magic. She became a legendary figure, forever remembered as the girl who brought light to a world filled with darkness.\""
      ]
     },
     "execution_count": 27,
     "metadata": {},
     "output_type": "execute_result"
    }
   ],
   "source": [
    "llm.predict('Tell me a short story about magic. Limit the story at 200 words.')"
   ]
  },
  {
   "cell_type": "code",
   "execution_count": 28,
   "metadata": {},
   "outputs": [
    {
     "data": {
      "text/plain": [
       "\"Once upon a time in a small village, there lived a young girl named Lily. She had always been fascinated by magic and spent her days reading books about spells and enchantments. One day, while exploring the forest, she stumbled upon an old, dusty book hidden beneath a tree.\\n\\nCuriosity got the better of her, and she opened the book. To her amazement, it contained a powerful spell that could grant any wish. Eager to test its authenticity, Lily recited the incantation, and a shimmering light enveloped her.\\n\\nSuddenly, she found herself in a magnificent castle, surrounded by mystical creatures. The castle belonged to the great sorcerer, Merlin, who had been searching for someone pure of heart to inherit his powers.\\n\\nMerlin explained that Lily's pure heart had unlocked the magic within her. He became her mentor, teaching her the ways of magic and guiding her on a journey to protect the realm from darkness.\\n\\nWith each passing day, Lily's powers grew stronger. She could summon fire, heal wounds, and even communicate with animals. She became a beacon of hope for the villagers, using her magic to bring joy and prosperity to their lives.\\n\\nYears later, when darkness threatened to consume the land, Lily faced her greatest challenge. With her newfound abilities, she defeated the evil sorcerer and restored peace to the realm.\\n\\nLily's story spread far and wide, inspiring others to believe in the power of magic. She became a legendary figure, forever remembered as the girl who brought light to a world filled with darkness.\""
      ]
     },
     "execution_count": 28,
     "metadata": {},
     "output_type": "execute_result"
    }
   ],
   "source": [
    "llm.predict('Tell me a short story about magic. Limit the story at 200 words.')"
   ]
  },
  {
   "cell_type": "code",
   "execution_count": 29,
   "metadata": {},
   "outputs": [
    {
     "data": {
      "text/plain": [
       "\"Once upon a time in a small village, there lived a young girl named Lily. She had always been fascinated by magic and longed to become a powerful sorceress. One day, while exploring the forest, she stumbled upon an ancient book hidden beneath a tree.\\n\\nCuriosity got the better of her, and she opened the book. To her amazement, it contained spells and enchantments. Lily began studying the book diligently, practicing the incantations and gestures.\\n\\nOne evening, as the sun set, Lily decided to test her newfound abilities. She whispered a spell and waved her hand, and suddenly, the stars in the sky began to dance. The villagers, astonished, gathered around to witness the magical spectacle.\\n\\nWord of Lily's extraordinary powers spread far and wide. People from distant lands came to seek her help, hoping she could solve their problems with her magic. Lily used her abilities to heal the sick, bring joy to the sorrowful, and protect the weak.\\n\\nBut as time passed, Lily realized that true magic lay not in the spells, but in the kindness and compassion she showed others. She used her powers to teach others about love and understanding, spreading harmony throughout the world.\\n\\nAnd so, Lily's magic became a symbol of hope and unity, reminding everyone that the greatest magic of all was the magic of the heart.\""
      ]
     },
     "execution_count": 29,
     "metadata": {},
     "output_type": "execute_result"
    }
   ],
   "source": [
    "llm.predict('Tell me a short story about magic. Limit the story at 200 words.')"
   ]
  },
  {
   "cell_type": "code",
   "execution_count": 30,
   "metadata": {},
   "outputs": [
    {
     "data": {
      "text/plain": [
       "\"Once upon a time in a small village, there lived a young girl named Lily. She had always been fascinated by magic and longed to become a powerful sorceress. One day, while exploring the forest, she stumbled upon an ancient book hidden beneath a tree.\\n\\nCuriosity got the better of her, and she opened the book. To her amazement, it contained spells and enchantments. Lily began studying the book diligently, practicing the incantations and gestures.\\n\\nOne evening, as the sun set, Lily decided to test her newfound abilities. She whispered a spell and waved her hand, and suddenly, the stars in the sky began to dance. The villagers, astonished, gathered around to witness the magical spectacle.\\n\\nWord of Lily's extraordinary powers spread throughout the land, reaching the ears of the king. He summoned her to the palace, hoping she could help his ailing queen. Lily agreed, and with her magic, she healed the queen, restoring her health and vitality.\\n\\nGrateful, the king offered Lily a place in his court, but she declined. Instead, she returned to her village, using her magic to help those in need. Lily became known as the village's beloved sorceress, using her powers to bring joy, heal the sick, and protect her people.\\n\\nAnd so, the young girl who had once dreamed of magic became a true sorceress, using her powers to make the world a better place.\""
      ]
     },
     "execution_count": 30,
     "metadata": {},
     "output_type": "execute_result"
    }
   ],
   "source": [
    "llm.predict('Tell me a short story about magic. Limit the story at 200 words.')"
   ]
  },
  {
   "cell_type": "code",
   "execution_count": 31,
   "metadata": {},
   "outputs": [
    {
     "name": "stderr",
     "output_type": "stream",
     "text": [
      "Retrying langchain.chat_models.openai.ChatOpenAI.completion_with_retry.<locals>._completion_with_retry in 4.0 seconds as it raised RateLimitError: Rate limit reached for default-gpt-3.5-turbo-16k in organization org-S44PIsTwFaAptpbMvznH8QKZ on requests per min. Limit: 3 / min. Please try again in 20s. Contact us through our help center at help.openai.com if you continue to have issues. Please add a payment method to your account to increase your rate limit. Visit https://platform.openai.com/account/billing to add a payment method..\n",
      "Retrying langchain.chat_models.openai.ChatOpenAI.completion_with_retry.<locals>._completion_with_retry in 4.0 seconds as it raised RateLimitError: Rate limit reached for default-gpt-3.5-turbo-16k in organization org-S44PIsTwFaAptpbMvznH8QKZ on requests per min. Limit: 3 / min. Please try again in 20s. Contact us through our help center at help.openai.com if you continue to have issues. Please add a payment method to your account to increase your rate limit. Visit https://platform.openai.com/account/billing to add a payment method..\n"
     ]
    },
    {
     "data": {
      "text/plain": [
       "\"Once upon a time in a small village, there lived a young girl named Lily. She had always been fascinated by magic and spent her days reading books about spells and enchantments. One day, while exploring the forest, she stumbled upon an old, dusty book hidden beneath a tree.\\n\\nCuriosity got the better of her, and she opened the book. To her amazement, it contained a powerful spell that could grant any wish. Eager to test its authenticity, Lily recited the incantation, and a shimmering light enveloped her.\\n\\nSuddenly, she found herself in a magnificent castle, surrounded by mystical creatures. The castle belonged to the great sorcerer, Merlin, who had been searching for someone pure of heart to inherit his powers.\\n\\nMerlin explained that Lily's pure heart had unlocked the magic within her. He became her mentor, teaching her the ways of magic and guiding her on a journey to protect the realm from darkness.\\n\\nWith each passing day, Lily's powers grew stronger. She could summon fire, heal wounds, and even communicate with animals. She became a beacon of hope for the villagers, using her magic to bring joy and prosperity to their lives.\\n\\nYears later, when darkness threatened to consume the land, Lily faced her greatest challenge. With her newfound powers and the support of her friends, she defeated the evil sorcerer, restoring peace to the realm.\\n\\nLily's story spread far and wide, inspiring others to believe in the power of magic. She became a legendary figure, forever remembered as the girl who brought light to a world filled with darkness.\""
      ]
     },
     "execution_count": 31,
     "metadata": {},
     "output_type": "execute_result"
    }
   ],
   "source": [
    "llm.predict('Tell me a short story about magic. Limit the story at 200 words.')"
   ]
  },
  {
   "cell_type": "code",
   "execution_count": 32,
   "metadata": {},
   "outputs": [
    {
     "name": "stderr",
     "output_type": "stream",
     "text": [
      "Retrying langchain.chat_models.openai.ChatOpenAI.completion_with_retry.<locals>._completion_with_retry in 4.0 seconds as it raised RateLimitError: Rate limit reached for default-gpt-3.5-turbo-16k in organization org-S44PIsTwFaAptpbMvznH8QKZ on requests per min. Limit: 3 / min. Please try again in 20s. Contact us through our help center at help.openai.com if you continue to have issues. Please add a payment method to your account to increase your rate limit. Visit https://platform.openai.com/account/billing to add a payment method..\n"
     ]
    },
    {
     "data": {
      "text/plain": [
       "\"Once upon a time in a small village, there lived a young girl named Lily. She had always been fascinated by magic and spent her days reading books about spells and enchantments. One day, while exploring the forest, she stumbled upon an old, dusty book hidden beneath a tree.\\n\\nCuriosity got the better of her, and she opened the book. To her amazement, it contained a powerful spell that could grant any wish. Eager to test its authenticity, Lily recited the incantation, and a shimmering light enveloped her.\\n\\nSuddenly, she found herself in a magnificent castle, surrounded by mystical creatures. The castle belonged to the great sorcerer, Merlin, who had been searching for someone pure of heart to inherit his powers.\\n\\nMerlin explained that Lily's pure heart had unlocked the magic within her. He became her mentor, teaching her the ways of magic and guiding her on a journey to protect the realm from darkness.\\n\\nWith each passing day, Lily's powers grew stronger. She could summon fire, heal wounds, and even communicate with animals. She became a beacon of hope for the villagers, using her magic to bring joy and prosperity to their lives.\\n\\nYears later, when darkness threatened to consume the land, Lily faced her greatest challenge. With her newfound abilities, she defeated the evil sorcerer and restored peace to the realm.\\n\\nLily's story spread far and wide, inspiring others to believe in the power of magic. She became a legendary figure, forever remembered as the girl who brought light to a world filled with darkness.\""
      ]
     },
     "execution_count": 32,
     "metadata": {},
     "output_type": "execute_result"
    }
   ],
   "source": [
    "llm.predict('Tell me a short story about magic. Limit the story at 200 words.')"
   ]
  },
  {
   "cell_type": "code",
   "execution_count": 33,
   "metadata": {},
   "outputs": [
    {
     "name": "stderr",
     "output_type": "stream",
     "text": [
      "Retrying langchain.chat_models.openai.ChatOpenAI.completion_with_retry.<locals>._completion_with_retry in 4.0 seconds as it raised RateLimitError: Rate limit reached for default-gpt-3.5-turbo-16k in organization org-S44PIsTwFaAptpbMvznH8QKZ on requests per min. Limit: 3 / min. Please try again in 20s. Contact us through our help center at help.openai.com if you continue to have issues. Please add a payment method to your account to increase your rate limit. Visit https://platform.openai.com/account/billing to add a payment method..\n"
     ]
    },
    {
     "data": {
      "text/plain": [
       "\"Once upon a time in a small village, there lived a young girl named Lily. She had always been fascinated by magic and longed to become a powerful sorceress. One day, while exploring the forest, she stumbled upon an ancient book hidden beneath a tree.\\n\\nCuriosity got the better of her, and she opened the book. To her amazement, it contained spells and enchantments. Lily began studying the book diligently, practicing the incantations and gestures.\\n\\nOne evening, as the sun set, Lily decided to test her newfound abilities. She whispered a spell and waved her hand, and suddenly, the stars in the sky began to dance. The villagers, astonished, gathered around to witness the magical spectacle.\\n\\nWord of Lily's extraordinary powers spread far and wide. People from distant lands came to seek her help, hoping she could solve their problems with her magic. Lily used her abilities to heal the sick, bring joy to the sorrowful, and protect the weak.\\n\\nBut as time passed, Lily realized that true magic lay not in the spells, but in the kindness and compassion she showed others. She used her powers to teach others about love and understanding, spreading harmony throughout the world.\\n\\nAnd so, Lily's magic became a symbol of hope and unity. The villagers celebrated her as their beloved sorceress, and she continued to use her powers to make the world a better place, one act of kindness at a time.\""
      ]
     },
     "execution_count": 33,
     "metadata": {},
     "output_type": "execute_result"
    }
   ],
   "source": [
    "llm.predict('Tell me a short story about magic. Limit the story at 200 words.')"
   ]
  }
 ],
 "metadata": {
  "kernelspec": {
   "display_name": "env",
   "language": "python",
   "name": "python3"
  },
  "language_info": {
   "codemirror_mode": {
    "name": "ipython",
    "version": 3
   },
   "file_extension": ".py",
   "mimetype": "text/x-python",
   "name": "python",
   "nbconvert_exporter": "python",
   "pygments_lexer": "ipython3",
   "version": "3.10.12"
  },
  "orig_nbformat": 4
 },
 "nbformat": 4,
 "nbformat_minor": 2
}
